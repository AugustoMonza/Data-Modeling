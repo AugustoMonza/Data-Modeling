{
 "cells": [
  {
   "cell_type": "code",
   "execution_count": 2,
   "metadata": {},
   "outputs": [
    {
     "name": "stdout",
     "output_type": "stream",
     "text": [
      "Defaulting to user installation because normal site-packages is not writeable\n",
      "Requirement already satisfied: sqlalchemy==1.3.9 in /home/augusto/.local/lib/python3.10/site-packages (1.3.9)\n",
      "Defaulting to user installation because normal site-packages is not writeable\n",
      "Requirement already satisfied: ibm_db_sa in /home/augusto/.local/lib/python3.10/site-packages (0.3.8)\n",
      "Requirement already satisfied: ibm-db>=2.0.0 in /home/augusto/.local/lib/python3.10/site-packages (from ibm_db_sa) (3.1.3)\n",
      "Requirement already satisfied: sqlalchemy>=0.7.3 in /home/augusto/.local/lib/python3.10/site-packages (from ibm_db_sa) (1.3.9)\n",
      "Defaulting to user installation because normal site-packages is not writeable\n",
      "Requirement already satisfied: ipython-sql in /home/augusto/.local/lib/python3.10/site-packages (0.4.1)\n",
      "Requirement already satisfied: ipython-genutils>=0.1.0 in /home/augusto/.local/lib/python3.10/site-packages (from ipython-sql) (0.2.0)\n",
      "Requirement already satisfied: prettytable<1 in /home/augusto/.local/lib/python3.10/site-packages (from ipython-sql) (0.7.2)\n",
      "Requirement already satisfied: sqlparse in /home/augusto/.local/lib/python3.10/site-packages (from ipython-sql) (0.4.2)\n",
      "Requirement already satisfied: sqlalchemy>=0.6.7 in /home/augusto/.local/lib/python3.10/site-packages (from ipython-sql) (1.3.9)\n",
      "Requirement already satisfied: six in /usr/lib/python3/dist-packages (from ipython-sql) (1.16.0)\n",
      "Requirement already satisfied: ipython>=1.0 in /home/augusto/.local/lib/python3.10/site-packages (from ipython-sql) (8.5.0)\n",
      "Requirement already satisfied: pygments>=2.4.0 in /home/augusto/.local/lib/python3.10/site-packages (from ipython>=1.0->ipython-sql) (2.13.0)\n",
      "Requirement already satisfied: backcall in /home/augusto/.local/lib/python3.10/site-packages (from ipython>=1.0->ipython-sql) (0.2.0)\n",
      "Requirement already satisfied: jedi>=0.16 in /home/augusto/.local/lib/python3.10/site-packages (from ipython>=1.0->ipython-sql) (0.18.1)\n",
      "Requirement already satisfied: stack-data in /home/augusto/.local/lib/python3.10/site-packages (from ipython>=1.0->ipython-sql) (0.5.1)\n",
      "Requirement already satisfied: decorator in /home/augusto/.local/lib/python3.10/site-packages (from ipython>=1.0->ipython-sql) (5.1.1)\n",
      "Requirement already satisfied: prompt-toolkit<3.1.0,>3.0.1 in /home/augusto/.local/lib/python3.10/site-packages (from ipython>=1.0->ipython-sql) (3.0.31)\n",
      "Requirement already satisfied: traitlets>=5 in /home/augusto/.local/lib/python3.10/site-packages (from ipython>=1.0->ipython-sql) (5.4.0)\n",
      "Requirement already satisfied: pickleshare in /home/augusto/.local/lib/python3.10/site-packages (from ipython>=1.0->ipython-sql) (0.7.5)\n",
      "Requirement already satisfied: matplotlib-inline in /home/augusto/.local/lib/python3.10/site-packages (from ipython>=1.0->ipython-sql) (0.1.6)\n",
      "Requirement already satisfied: pexpect>4.3 in /usr/lib/python3/dist-packages (from ipython>=1.0->ipython-sql) (4.8.0)\n",
      "Requirement already satisfied: parso<0.9.0,>=0.8.0 in /home/augusto/.local/lib/python3.10/site-packages (from jedi>=0.16->ipython>=1.0->ipython-sql) (0.8.3)\n",
      "Requirement already satisfied: wcwidth in /home/augusto/.local/lib/python3.10/site-packages (from prompt-toolkit<3.1.0,>3.0.1->ipython>=1.0->ipython-sql) (0.2.5)\n",
      "Requirement already satisfied: asttokens in /home/augusto/.local/lib/python3.10/site-packages (from stack-data->ipython>=1.0->ipython-sql) (2.0.8)\n",
      "Requirement already satisfied: executing in /home/augusto/.local/lib/python3.10/site-packages (from stack-data->ipython>=1.0->ipython-sql) (1.1.1)\n",
      "Requirement already satisfied: pure-eval in /home/augusto/.local/lib/python3.10/site-packages (from stack-data->ipython>=1.0->ipython-sql) (0.2.2)\n"
     ]
    }
   ],
   "source": [
    "!pip install sqlalchemy==1.3.9\n",
    "!pip install ibm_db_sa\n",
    "!pip install ipython-sql\n",
    "import sqlite3\n",
    "import pandas as pd\n",
    "from sqlite3 import Error\n",
    "%load_ext sql\n",
    "%sql sqlite:///sqlite-db-012022.db"
   ]
  },
  {
   "cell_type": "markdown",
   "metadata": {},
   "source": [
    "## 1"
   ]
  },
  {
   "cell_type": "markdown",
   "metadata": {
    "tags": [
     "ans_st"
    ]
   },
   "source": [
    "**Answer.**"
   ]
  },
  {
   "cell_type": "code",
   "execution_count": 9,
   "metadata": {},
   "outputs": [
    {
     "name": "stdout",
     "output_type": "stream",
     "text": [
      " * sqlite:///sqlite-db-012022.db\n",
      "Done.\n"
     ]
    },
    {
     "data": {
      "text/html": [
       "<div>\n",
       "<style scoped>\n",
       "    .dataframe tbody tr th:only-of-type {\n",
       "        vertical-align: middle;\n",
       "    }\n",
       "\n",
       "    .dataframe tbody tr th {\n",
       "        vertical-align: top;\n",
       "    }\n",
       "\n",
       "    .dataframe thead th {\n",
       "        text-align: right;\n",
       "    }\n",
       "</style>\n",
       "<table border=\"1\" class=\"dataframe\">\n",
       "  <thead>\n",
       "    <tr style=\"text-align: right;\">\n",
       "      <th></th>\n",
       "      <th>name</th>\n",
       "      <th>orderqty</th>\n",
       "      <th>promedio</th>\n",
       "    </tr>\n",
       "  </thead>\n",
       "  <tbody>\n",
       "    <tr>\n",
       "      <th>0</th>\n",
       "      <td>AWC Logo Cap</td>\n",
       "      <td>8311</td>\n",
       "      <td>31.244361</td>\n",
       "    </tr>\n",
       "    <tr>\n",
       "      <th>259</th>\n",
       "      <td>Water Bottle - 30 oz.</td>\n",
       "      <td>6815</td>\n",
       "      <td>25.620301</td>\n",
       "    </tr>\n",
       "    <tr>\n",
       "      <th>232</th>\n",
       "      <td>Sport-100 Helmet, Blue</td>\n",
       "      <td>6743</td>\n",
       "      <td>25.349624</td>\n",
       "    </tr>\n",
       "    <tr>\n",
       "      <th>103</th>\n",
       "      <td>Long-Sleeve Logo Jersey, L</td>\n",
       "      <td>6592</td>\n",
       "      <td>24.781955</td>\n",
       "    </tr>\n",
       "    <tr>\n",
       "      <th>231</th>\n",
       "      <td>Sport-100 Helmet, Black</td>\n",
       "      <td>6532</td>\n",
       "      <td>24.556391</td>\n",
       "    </tr>\n",
       "  </tbody>\n",
       "</table>\n",
       "</div>"
      ],
      "text/plain": [
       "                           name  orderqty   promedio\n",
       "0                  AWC Logo Cap      8311  31.244361\n",
       "259       Water Bottle - 30 oz.      6815  25.620301\n",
       "232      Sport-100 Helmet, Blue      6743  25.349624\n",
       "103  Long-Sleeve Logo Jersey, L      6592  24.781955\n",
       "231     Sport-100 Helmet, Black      6532  24.556391"
      ]
     },
     "execution_count": 9,
     "metadata": {},
     "output_type": "execute_result"
    }
   ],
   "source": [
    "def extract(query):\n",
    "    con = %sql {query}\n",
    "    df = con.DataFrame()\n",
    "    return df\n",
    "query = 'select salesorderdetail.orderqty, product.name  from salesorderdetail join product on salesorderdetail.productid = product.productid'\n",
    "df = extract(query)\n",
    "table = df.groupby('name', as_index=False).sum('orderqty')\n",
    "table['promedio'] = table['orderqty']/266\n",
    "table = table.sort_values(by='promedio', ascending=False).head(5)\n",
    "table \n"
   ]
  },
  {
   "cell_type": "code",
   "execution_count": 8,
   "metadata": {},
   "outputs": [
    {
     "name": "stdout",
     "output_type": "stream",
     "text": [
      " * sqlite:///sqlite-db-012022.db\n",
      "Done.\n"
     ]
    },
    {
     "data": {
      "text/html": [
       "<table>\n",
       "    <tr>\n",
       "        <th>orderqty</th>\n",
       "        <th>name</th>\n",
       "    </tr>\n",
       "    <tr>\n",
       "        <td>1</td>\n",
       "        <td>Mountain-100 Black, 42</td>\n",
       "    </tr>\n",
       "    <tr>\n",
       "        <td>3</td>\n",
       "        <td>Mountain-100 Black, 44</td>\n",
       "    </tr>\n",
       "    <tr>\n",
       "        <td>1</td>\n",
       "        <td>Mountain-100 Black, 48</td>\n",
       "    </tr>\n",
       "    <tr>\n",
       "        <td>1</td>\n",
       "        <td>Mountain-100 Silver, 38</td>\n",
       "    </tr>\n",
       "    <tr>\n",
       "        <td>1</td>\n",
       "        <td>Mountain-100 Silver, 42</td>\n",
       "    </tr>\n",
       "</table>"
      ],
      "text/plain": [
       "[(1, 'Mountain-100 Black, 42'),\n",
       " (3, 'Mountain-100 Black, 44'),\n",
       " (1, 'Mountain-100 Black, 48'),\n",
       " (1, 'Mountain-100 Silver, 38'),\n",
       " (1, 'Mountain-100 Silver, 42')]"
      ]
     },
     "execution_count": 8,
     "metadata": {},
     "output_type": "execute_result"
    }
   ],
   "source": [
    "%sql SELECT salesorderdetail.orderqty, product.name  from salesorderdetail join product on salesorderdetail.productid = product.productid limit 5"
   ]
  },
  {
   "cell_type": "markdown",
   "metadata": {
    "tags": [
     "ans_st"
    ]
   },
   "source": [
    "**Answer.**"
   ]
  },
  {
   "cell_type": "code",
   "execution_count": 10,
   "metadata": {
    "scrolled": true
   },
   "outputs": [
    {
     "name": "stdout",
     "output_type": "stream",
     "text": [
      " * sqlite:///sqlite-db-012022.db\n",
      "Done.\n"
     ]
    },
    {
     "data": {
      "text/plain": [
       "2     276\n",
       "15    289\n",
       "1     275\n",
       "3     277\n",
       "16    290\n",
       "Name: businessentityid, dtype: int64"
      ]
     },
     "execution_count": 10,
     "metadata": {},
     "output_type": "execute_result"
    }
   ],
   "source": [
    "query = 'select businessentityid, salesytd from salesperson'\n",
    "df = extract(query)\n",
    "table = df.sort_values(by='salesytd', ascending=False).head(5)\n",
    "table['businessentityid'] "
   ]
  },
  {
   "cell_type": "code",
   "execution_count": null,
   "metadata": {},
   "outputs": [],
   "source": [
    "'''En base a la tabla generada anteriormente se observa a los mejores vendedores con respecto a sus ventas realizadas hasta la fecha sin tener en cuenta el tipo de moneda'''"
   ]
  },
  {
   "cell_type": "markdown",
   "metadata": {
    "tags": [
     "ans_st"
    ]
   },
   "source": [
    "**Answer.**"
   ]
  },
  {
   "cell_type": "code",
   "execution_count": 11,
   "metadata": {},
   "outputs": [
    {
     "name": "stdout",
     "output_type": "stream",
     "text": [
      " * sqlite:///sqlite-db-012022.db\n",
      "Done.\n"
     ]
    },
    {
     "name": "stderr",
     "output_type": "stream",
     "text": [
      "/tmp/ipykernel_12023/1381182898.py:4: FutureWarning: The default value of numeric_only in DataFrameGroupBy.sum is deprecated. In a future version, numeric_only will default to False. Either specify numeric_only or select only columns which should be valid for the function.\n",
      "  df = df.groupby('salespersonid', as_index=False).sum()\n"
     ]
    },
    {
     "data": {
      "text/plain": [
       "15    289.0\n",
       "2     276.0\n",
       "1     275.0\n",
       "8     282.0\n",
       "3     277.0\n",
       "Name: salespersonid, dtype: float64"
      ]
     },
     "execution_count": 11,
     "metadata": {},
     "output_type": "execute_result"
    }
   ],
   "source": [
    "query = 'select salespersonid, orderdate, subtotal from salesorderheader where orderdate between \"2014-01-01\" and \"2014-12-31\"'\n",
    "df = extract(query)\n",
    "table = df\n",
    "df = df.groupby('salespersonid', as_index=False).sum()\n",
    "table = df.sort_values(by='subtotal', ascending=False)\n",
    "table['salespersonid'].head(5)"
   ]
  },
  {
   "cell_type": "markdown",
   "metadata": {
    "tags": [
     "ans_st"
    ]
   },
   "source": [
    "**Answer.**"
   ]
  },
  {
   "cell_type": "markdown",
   "metadata": {},
   "source": [
    "-------"
   ]
  },
  {
   "cell_type": "code",
   "execution_count": 12,
   "metadata": {},
   "outputs": [
    {
     "name": "stdout",
     "output_type": "stream",
     "text": [
      " * sqlite:///sqlite-db-012022.db\n",
      "Done.\n"
     ]
    },
    {
     "data": {
      "text/plain": [
       "15    289.0\n",
       "2     276.0\n",
       "1     275.0\n",
       "8     282.0\n",
       "3     277.0\n",
       "Name: salespersonid, dtype: float64"
      ]
     },
     "execution_count": 12,
     "metadata": {},
     "output_type": "execute_result"
    }
   ],
   "source": [
    "query = 'select salesorderheader.salespersonid, salesorderdetail.orderqty, salesorderdetail.unitprice from salesorderdetail join salesorderheader on salesorderdetail.salesorderid = salesorderheader.salesorderid where salesorderheader.orderdate between \"2014-01-01\" and \"2014-12-31\"'\n",
    "df = extract(query)\n",
    "table = df.groupby(['salespersonid', 'unitprice'], as_index=False).sum()\n",
    "table['subtotal'] = table['orderqty'] * table['unitprice']\n",
    "table = table.groupby('salespersonid', as_index=False).sum()\n",
    "table = table.sort_values(by='subtotal', ascending=False)\n",
    "table['salespersonid'].head(5)"
   ]
  },
  {
   "cell_type": "markdown",
   "metadata": {
    "tags": [
     "20_min"
    ]
   },
   "source": [
    "### 5:\n",
    "\n",
    "Use the tables: `countryregioncurrency`, `salesperson` and `salesterritory` to get the corresponding currency asociated with the top salespeople"
   ]
  },
  {
   "cell_type": "markdown",
   "metadata": {
    "tags": [
     "ans_st"
    ]
   },
   "source": [
    "**Answer.**"
   ]
  },
  {
   "cell_type": "markdown",
   "metadata": {},
   "source": [
    "-------"
   ]
  },
  {
   "cell_type": "code",
   "execution_count": 13,
   "metadata": {},
   "outputs": [
    {
     "name": "stdout",
     "output_type": "stream",
     "text": [
      " * sqlite:///sqlite-db-012022.db\n",
      "Done.\n"
     ]
    },
    {
     "data": {
      "text/html": [
       "<div>\n",
       "<style scoped>\n",
       "    .dataframe tbody tr th:only-of-type {\n",
       "        vertical-align: middle;\n",
       "    }\n",
       "\n",
       "    .dataframe tbody tr th {\n",
       "        vertical-align: top;\n",
       "    }\n",
       "\n",
       "    .dataframe thead th {\n",
       "        text-align: right;\n",
       "    }\n",
       "</style>\n",
       "<table border=\"1\" class=\"dataframe\">\n",
       "  <thead>\n",
       "    <tr style=\"text-align: right;\">\n",
       "      <th></th>\n",
       "      <th>businessentityid</th>\n",
       "      <th>salesytd</th>\n",
       "      <th>currencycode</th>\n",
       "    </tr>\n",
       "  </thead>\n",
       "  <tbody>\n",
       "    <tr>\n",
       "      <th>1</th>\n",
       "      <td>276</td>\n",
       "      <td>4.251369e+06</td>\n",
       "      <td>USD</td>\n",
       "    </tr>\n",
       "    <tr>\n",
       "      <th>13</th>\n",
       "      <td>289</td>\n",
       "      <td>4.116871e+06</td>\n",
       "      <td>GBP</td>\n",
       "    </tr>\n",
       "    <tr>\n",
       "      <th>0</th>\n",
       "      <td>275</td>\n",
       "      <td>3.763178e+06</td>\n",
       "      <td>USD</td>\n",
       "    </tr>\n",
       "    <tr>\n",
       "      <th>2</th>\n",
       "      <td>277</td>\n",
       "      <td>3.189418e+06</td>\n",
       "      <td>USD</td>\n",
       "    </tr>\n",
       "    <tr>\n",
       "      <th>14</th>\n",
       "      <td>290</td>\n",
       "      <td>3.121616e+06</td>\n",
       "      <td>EUR</td>\n",
       "    </tr>\n",
       "  </tbody>\n",
       "</table>\n",
       "</div>"
      ],
      "text/plain": [
       "    businessentityid      salesytd currencycode\n",
       "1                276  4.251369e+06          USD\n",
       "13               289  4.116871e+06          GBP\n",
       "0                275  3.763178e+06          USD\n",
       "2                277  3.189418e+06          USD\n",
       "14               290  3.121616e+06          EUR"
      ]
     },
     "execution_count": 13,
     "metadata": {},
     "output_type": "execute_result"
    }
   ],
   "source": [
    "query = 'select  salesperson.businessentityid, salesperson.salesytd,countryregioncurrency.currencycode from salesperson join salesterritory on salesperson.territoryid = salesterritory.territoryid join countryregioncurrency on countryregioncurrency.countryregioncode = salesterritory.countryregioncode'\n",
    "df = extract(query)\n",
    "table_ej_5 = df.sort_values(by='salesytd', ascending=False)\n",
    "table_ej_5.head(5)"
   ]
  },
  {
   "cell_type": "markdown",
   "metadata": {
    "tags": [
     "ans_st"
    ]
   },
   "source": [
    "**Answer.**"
   ]
  },
  {
   "cell_type": "markdown",
   "metadata": {},
   "source": [
    "-------"
   ]
  },
  {
   "cell_type": "code",
   "execution_count": 14,
   "metadata": {},
   "outputs": [
    {
     "name": "stdout",
     "output_type": "stream",
     "text": [
      " * sqlite:///sqlite-db-012022.db\n",
      "Done.\n"
     ]
    },
    {
     "data": {
      "text/plain": [
       "5    290\n",
       "0    276\n",
       "9    288\n",
       "6    282\n",
       "2    275\n",
       "Name: businessentityid, dtype: int64"
      ]
     },
     "execution_count": 14,
     "metadata": {},
     "output_type": "execute_result"
    }
   ],
   "source": [
    "query = 'select averagerate, tocurrencycode from currencyrate where currencyratedate = \"2011-11-30 00:00:00\"'\n",
    "df = extract(query)\n",
    "df.rename(columns={'tocurrencycode': 'currencycode'}, inplace=True)\n",
    "table = pd.merge(table_ej_5, df, how= 'left', on='currencycode')\n",
    "table['salesytd'] = table['salesytd'] * table['averagerate']\n",
    "table = table.sort_values(by='salesytd', ascending=False)\n",
    "table['businessentityid'].head(5)"
   ]
  }
 ],
 "metadata": {
  "c1_recart": "6.9.0-57c20131aabc1dc2a8c675852d80a7da",
  "kernelspec": {
   "display_name": "Python 3.10.6 64-bit",
   "language": "python",
   "name": "python3"
  },
  "language_info": {
   "codemirror_mode": {
    "name": "ipython",
    "version": 3
   },
   "file_extension": ".py",
   "mimetype": "text/x-python",
   "name": "python",
   "nbconvert_exporter": "python",
   "pygments_lexer": "ipython3",
   "version": "3.10.6"
  },
  "varInspector": {
   "cols": {
    "lenName": 16,
    "lenType": 16,
    "lenVar": 40
   },
   "kernels_config": {
    "python": {
     "delete_cmd_postfix": "",
     "delete_cmd_prefix": "del ",
     "library": "var_list.py",
     "varRefreshCmd": "print(var_dic_list())"
    },
    "r": {
     "delete_cmd_postfix": ") ",
     "delete_cmd_prefix": "rm(",
     "library": "var_list.r",
     "varRefreshCmd": "cat(var_dic_list()) "
    }
   },
   "types_to_exclude": [
    "module",
    "function",
    "builtin_function_or_method",
    "instance",
    "_Feature"
   ],
   "window_display": false
  },
  "vscode": {
   "interpreter": {
    "hash": "916dbcbb3f70747c44a77c7bcd40155683ae19c65e1c03b4aa3499c5328201f1"
   }
  }
 },
 "nbformat": 4,
 "nbformat_minor": 4
}
